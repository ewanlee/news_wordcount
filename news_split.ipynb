{
 "cells": [
  {
   "cell_type": "code",
   "execution_count": 27,
   "metadata": {
    "collapsed": true
   },
   "outputs": [],
   "source": [
    "import os\n",
    "import io\n",
    "from bosonnlp import BosonNLP"
   ]
  },
  {
   "cell_type": "code",
   "execution_count": 3,
   "metadata": {
    "collapsed": true
   },
   "outputs": [],
   "source": [
    "# Get news file path\n",
    "news_dir = '/home/ewan/Documents/news_spider/news_20/'\n",
    "file_list = os.listdir(news_dir)"
   ]
  },
  {
   "cell_type": "code",
   "execution_count": 6,
   "metadata": {
    "collapsed": false
   },
   "outputs": [
    {
     "name": "stdout",
     "output_type": "stream",
     "text": [
      "为何呼格案和聂树斌案的精神损害赔偿金破百万\n"
     ]
    }
   ],
   "source": [
    "print file_list[0]"
   ]
  },
  {
   "cell_type": "code",
   "execution_count": 24,
   "metadata": {
    "collapsed": false
   },
   "outputs": [],
   "source": [
    "# Get the news dict\n",
    "news = {}\n",
    "for index, file in enumerate(file_list):\n",
    "    with io.open(news_dir + file, 'r') as f:\n",
    "        news[index] = file.decode('utf-8') + '\\n' + f.read()"
   ]
  },
  {
   "cell_type": "code",
   "execution_count": 19,
   "metadata": {
    "collapsed": false
   },
   "outputs": [
    {
     "data": {
      "text/plain": [
       "'\\xe4\\xb8\\xba\\xe4\\xbd\\x95\\xe5\\x91\\xbc\\xe6\\xa0\\xbc\\xe6\\xa1\\x88\\xe5\\x92\\x8c\\xe8\\x81\\x82\\xe6\\xa0\\x91\\xe6\\x96\\x8c\\xe6\\xa1\\x88\\xe7\\x9a\\x84\\xe7\\xb2\\xbe\\xe7\\xa5\\x9e\\xe6\\x8d\\x9f\\xe5\\xae\\xb3\\xe8\\xb5\\x94\\xe5\\x81\\xbf\\xe9\\x87\\x91\\xe7\\xa0\\xb4\\xe7\\x99\\xbe\\xe4\\xb8\\x87'"
      ]
     },
     "execution_count": 19,
     "metadata": {},
     "output_type": "execute_result"
    }
   ],
   "source": [
    "file_list[0]"
   ]
  },
  {
   "cell_type": "code",
   "execution_count": 20,
   "metadata": {
    "collapsed": false
   },
   "outputs": [
    {
     "data": {
      "text/plain": [
       "u'\\u4e3a\\u4f55\\u547c\\u683c\\u6848\\u548c\\u8042\\u6811\\u658c\\u6848\\u7684\\u7cbe\\u795e\\u635f\\u5bb3\\u8d54\\u507f\\u91d1\\u7834\\u767e\\u4e07'"
      ]
     },
     "execution_count": 20,
     "metadata": {},
     "output_type": "execute_result"
    }
   ],
   "source": [
    "file_list[0].decode('utf-8')"
   ]
  },
  {
   "cell_type": "code",
   "execution_count": 26,
   "metadata": {
    "collapsed": false
   },
   "outputs": [
    {
     "name": "stdout",
     "output_type": "stream",
     "text": [
      "为何呼格案和聂树斌案的精神损害赔偿金破百万\n",
      "http://3g.163.com/news/17/0330/17/CGPSDTSD000187VE.html\n",
      "\n",
      "　　河北高院决定赔偿聂树斌家属268万余元，其中人身自由赔偿金52579.1元，死亡赔偿金、丧葬费126.482万元，张焕枝的个人生活费6.4万元，精神损害抚慰金130万元。　　聂树斌国家赔偿案的代理律师王殿学称，130万元的精神损害抚慰金创下了国内冤假错案国家赔偿中精神赔偿的纪录，突出了对生命的尊重，具有标杆意义和示范作用。　　同样是因蒙冤被执行死刑，呼格吉勒图沉冤昭雪后，其父母获得的精神损害抚慰金金额，也打破了之前的记录。　　2016年12月30日，内蒙古高院作出国家赔偿决定，决定支付呼格吉勒图父母李三仁、尚爱云国家赔偿金共计2059621.40元。包括死亡赔偿金、丧葬费共计1047580元；呼格吉勒图生前被羁押60日的限制人身自由赔偿金12041.40元；精神损害抚慰金100万元。　　事实上，呼格案、聂树斌案的精神抚慰赔偿金不仅相继创下纪录，也大大高于最高法此前规定的原则性标准。　　最高法2014年7月发布的相关意见规定，精神损害抚慰金的赔偿标准原则上不超过人身自由赔偿金、生命健康赔偿金总额的35%，最低不少于1000元。　　据人民日报报道，对于呼格案，内蒙古高院相关负责人表示，该案精神损害抚慰金的确定是以《国家赔偿法》第十七条第（三）项“依照审判监督程序再审改判无罪，原判刑罚已执行的”为依据提起的，而呼格案所涉及的被执行刑罚是最为严厉的死刑，这对呼格吉勒图亲属所造成的精神损害后果无疑是极其严重的。　　“鉴于这种特殊情况，我院决定支付精神损害抚慰金100万元。这个数额是我院综合考量本案的具体情况确定的。赔偿数额超过死亡赔偿金和限制人身自由赔偿金总额的35%，是综合考虑到此案的特殊性，综合考虑到国家赔偿所蕴含的救济损害和抚慰创伤的功能，按照符合法律规定精神、符合公平正义的要求予以协商和决定的。”上述内蒙古高院负责人表示。　　刑诉法博士、律师毛立新曾在接受媒体采访时称，最高法司法解释用的是“原则上不超过”，没有限制数额，超出其规定也是合法、合理的。“呼格吉勒图案毕竟人已经被执行死刑了，100万精神赔偿虽然比以前高，但总体而言也不算太高。一条人命很难说用多少钱来赔。”　　\n"
     ]
    }
   ],
   "source": [
    "print news[0]"
   ]
  },
  {
   "cell_type": "code",
   "execution_count": 28,
   "metadata": {
    "collapsed": true
   },
   "outputs": [],
   "source": [
    "nlp = BosonNLP('FuHSE7Vf.13924.jadflTdrQLWx')\n",
    "splitted_news = {}\n",
    "\n",
    "SIZE = len(news)\n",
    "\n",
    "for key, value in news.items():\n",
    "    result = nlp.tag([value])\n",
    "    words = ''\n",
    "    for index, word in enumerate(result[0]['word']):\n",
    "            words += word + ' '\n",
    "    splitted_news[key] = words"
   ]
  },
  {
   "cell_type": "code",
   "execution_count": 34,
   "metadata": {
    "collapsed": false
   },
   "outputs": [],
   "source": [
    "for index, content in splitted_news.items():\n",
    "    with io.open(str(index), 'w') as f:\n",
    "        f.write(content)"
   ]
  }
 ],
 "metadata": {
  "kernelspec": {
   "display_name": "Python 2",
   "language": "python",
   "name": "python2"
  },
  "language_info": {
   "codemirror_mode": {
    "name": "ipython",
    "version": 2
   },
   "file_extension": ".py",
   "mimetype": "text/x-python",
   "name": "python",
   "nbconvert_exporter": "python",
   "pygments_lexer": "ipython2",
   "version": "2.7.13"
  }
 },
 "nbformat": 4,
 "nbformat_minor": 2
}
